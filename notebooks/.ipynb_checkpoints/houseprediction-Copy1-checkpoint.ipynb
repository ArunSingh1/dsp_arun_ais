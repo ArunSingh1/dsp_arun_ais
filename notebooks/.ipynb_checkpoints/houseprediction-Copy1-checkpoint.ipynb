{
 "cells": [
  {
   "cell_type": "code",
   "execution_count": 4,
   "metadata": {},
   "outputs": [],
   "source": [
    "import pandas as pd\n",
    "import numpy as np"
   ]
  },
  {
   "cell_type": "code",
   "execution_count": 7,
   "metadata": {},
   "outputs": [],
   "source": [
    "df_master = df_train.copy()\n",
    "df_train = pd.read_csv('train.csv')\n",
    "df_test = pd.read_csv('test.csv')"
   ]
  },
  {
   "cell_type": "code",
   "execution_count": 8,
   "metadata": {},
   "outputs": [
    {
     "data": {
      "text/plain": [
       "(1459, 80)"
      ]
     },
     "execution_count": 8,
     "metadata": {},
     "output_type": "execute_result"
    }
   ],
   "source": [
    "df_train.shape\n",
    "df_test.shape"
   ]
  },
  {
   "cell_type": "markdown",
   "metadata": {},
   "source": [
    "### BASIC PIPELINE "
   ]
  },
  {
   "cell_type": "code",
   "execution_count": 9,
   "metadata": {},
   "outputs": [],
   "source": [
    "# df_train.info()"
   ]
  },
  {
   "cell_type": "code",
   "execution_count": 13,
   "metadata": {},
   "outputs": [],
   "source": [
    "# dfbas_train = df_train.select_dtypes(exclude= 'object')\n",
    "# dfbas_test = df_test.select_dtypes(exclude= 'object')\n",
    "\n",
    "\n",
    "def fun_remove_object_cols(df):\n",
    "    df = df.select_dtypes(exclude= 'object')\n",
    "    return df\n",
    "\n",
    "dfbas_train = fun_remove_object_cols(df_train)\n",
    "dfbas_test =  fun_remove_object_cols(df_test)"
   ]
  },
  {
   "cell_type": "code",
   "execution_count": 14,
   "metadata": {},
   "outputs": [
    {
     "data": {
      "text/plain": [
       "(1459, 37)"
      ]
     },
     "execution_count": 14,
     "metadata": {},
     "output_type": "execute_result"
    }
   ],
   "source": [
    "dfbas_train.shape\n",
    "dfbas_test.shape"
   ]
  },
  {
   "cell_type": "code",
   "execution_count": 49,
   "metadata": {},
   "outputs": [
    {
     "data": {
      "text/html": [
       "<div>\n",
       "<style scoped>\n",
       "    .dataframe tbody tr th:only-of-type {\n",
       "        vertical-align: middle;\n",
       "    }\n",
       "\n",
       "    .dataframe tbody tr th {\n",
       "        vertical-align: top;\n",
       "    }\n",
       "\n",
       "    .dataframe thead th {\n",
       "        text-align: right;\n",
       "    }\n",
       "</style>\n",
       "<table border=\"1\" class=\"dataframe\">\n",
       "  <thead>\n",
       "    <tr style=\"text-align: right;\">\n",
       "      <th></th>\n",
       "      <th>Id</th>\n",
       "      <th>MSSubClass</th>\n",
       "      <th>LotFrontage</th>\n",
       "      <th>LotArea</th>\n",
       "      <th>OverallQual</th>\n",
       "      <th>OverallCond</th>\n",
       "      <th>YearBuilt</th>\n",
       "      <th>YearRemodAdd</th>\n",
       "      <th>MasVnrArea</th>\n",
       "      <th>BsmtFinSF1</th>\n",
       "      <th>...</th>\n",
       "      <th>GarageArea</th>\n",
       "      <th>WoodDeckSF</th>\n",
       "      <th>OpenPorchSF</th>\n",
       "      <th>EnclosedPorch</th>\n",
       "      <th>3SsnPorch</th>\n",
       "      <th>ScreenPorch</th>\n",
       "      <th>PoolArea</th>\n",
       "      <th>MiscVal</th>\n",
       "      <th>MoSold</th>\n",
       "      <th>YrSold</th>\n",
       "    </tr>\n",
       "  </thead>\n",
       "  <tbody>\n",
       "    <tr>\n",
       "      <th>0</th>\n",
       "      <td>1461</td>\n",
       "      <td>20</td>\n",
       "      <td>80.0</td>\n",
       "      <td>11622</td>\n",
       "      <td>5</td>\n",
       "      <td>6</td>\n",
       "      <td>1961</td>\n",
       "      <td>1961</td>\n",
       "      <td>0.0</td>\n",
       "      <td>468.0</td>\n",
       "      <td>...</td>\n",
       "      <td>730.0</td>\n",
       "      <td>140</td>\n",
       "      <td>0</td>\n",
       "      <td>0</td>\n",
       "      <td>0</td>\n",
       "      <td>120</td>\n",
       "      <td>0</td>\n",
       "      <td>0</td>\n",
       "      <td>6</td>\n",
       "      <td>2010</td>\n",
       "    </tr>\n",
       "    <tr>\n",
       "      <th>1</th>\n",
       "      <td>1462</td>\n",
       "      <td>20</td>\n",
       "      <td>81.0</td>\n",
       "      <td>14267</td>\n",
       "      <td>6</td>\n",
       "      <td>6</td>\n",
       "      <td>1958</td>\n",
       "      <td>1958</td>\n",
       "      <td>108.0</td>\n",
       "      <td>923.0</td>\n",
       "      <td>...</td>\n",
       "      <td>312.0</td>\n",
       "      <td>393</td>\n",
       "      <td>36</td>\n",
       "      <td>0</td>\n",
       "      <td>0</td>\n",
       "      <td>0</td>\n",
       "      <td>0</td>\n",
       "      <td>12500</td>\n",
       "      <td>6</td>\n",
       "      <td>2010</td>\n",
       "    </tr>\n",
       "    <tr>\n",
       "      <th>2</th>\n",
       "      <td>1463</td>\n",
       "      <td>60</td>\n",
       "      <td>74.0</td>\n",
       "      <td>13830</td>\n",
       "      <td>5</td>\n",
       "      <td>5</td>\n",
       "      <td>1997</td>\n",
       "      <td>1998</td>\n",
       "      <td>0.0</td>\n",
       "      <td>791.0</td>\n",
       "      <td>...</td>\n",
       "      <td>482.0</td>\n",
       "      <td>212</td>\n",
       "      <td>34</td>\n",
       "      <td>0</td>\n",
       "      <td>0</td>\n",
       "      <td>0</td>\n",
       "      <td>0</td>\n",
       "      <td>0</td>\n",
       "      <td>3</td>\n",
       "      <td>2010</td>\n",
       "    </tr>\n",
       "    <tr>\n",
       "      <th>3</th>\n",
       "      <td>1464</td>\n",
       "      <td>60</td>\n",
       "      <td>78.0</td>\n",
       "      <td>9978</td>\n",
       "      <td>6</td>\n",
       "      <td>6</td>\n",
       "      <td>1998</td>\n",
       "      <td>1998</td>\n",
       "      <td>20.0</td>\n",
       "      <td>602.0</td>\n",
       "      <td>...</td>\n",
       "      <td>470.0</td>\n",
       "      <td>360</td>\n",
       "      <td>36</td>\n",
       "      <td>0</td>\n",
       "      <td>0</td>\n",
       "      <td>0</td>\n",
       "      <td>0</td>\n",
       "      <td>0</td>\n",
       "      <td>6</td>\n",
       "      <td>2010</td>\n",
       "    </tr>\n",
       "    <tr>\n",
       "      <th>4</th>\n",
       "      <td>1465</td>\n",
       "      <td>120</td>\n",
       "      <td>43.0</td>\n",
       "      <td>5005</td>\n",
       "      <td>8</td>\n",
       "      <td>5</td>\n",
       "      <td>1992</td>\n",
       "      <td>1992</td>\n",
       "      <td>0.0</td>\n",
       "      <td>263.0</td>\n",
       "      <td>...</td>\n",
       "      <td>506.0</td>\n",
       "      <td>0</td>\n",
       "      <td>82</td>\n",
       "      <td>0</td>\n",
       "      <td>0</td>\n",
       "      <td>144</td>\n",
       "      <td>0</td>\n",
       "      <td>0</td>\n",
       "      <td>1</td>\n",
       "      <td>2010</td>\n",
       "    </tr>\n",
       "    <tr>\n",
       "      <th>...</th>\n",
       "      <td>...</td>\n",
       "      <td>...</td>\n",
       "      <td>...</td>\n",
       "      <td>...</td>\n",
       "      <td>...</td>\n",
       "      <td>...</td>\n",
       "      <td>...</td>\n",
       "      <td>...</td>\n",
       "      <td>...</td>\n",
       "      <td>...</td>\n",
       "      <td>...</td>\n",
       "      <td>...</td>\n",
       "      <td>...</td>\n",
       "      <td>...</td>\n",
       "      <td>...</td>\n",
       "      <td>...</td>\n",
       "      <td>...</td>\n",
       "      <td>...</td>\n",
       "      <td>...</td>\n",
       "      <td>...</td>\n",
       "      <td>...</td>\n",
       "    </tr>\n",
       "    <tr>\n",
       "      <th>1454</th>\n",
       "      <td>2915</td>\n",
       "      <td>160</td>\n",
       "      <td>21.0</td>\n",
       "      <td>1936</td>\n",
       "      <td>4</td>\n",
       "      <td>7</td>\n",
       "      <td>1970</td>\n",
       "      <td>1970</td>\n",
       "      <td>0.0</td>\n",
       "      <td>0.0</td>\n",
       "      <td>...</td>\n",
       "      <td>0.0</td>\n",
       "      <td>0</td>\n",
       "      <td>0</td>\n",
       "      <td>0</td>\n",
       "      <td>0</td>\n",
       "      <td>0</td>\n",
       "      <td>0</td>\n",
       "      <td>0</td>\n",
       "      <td>6</td>\n",
       "      <td>2006</td>\n",
       "    </tr>\n",
       "    <tr>\n",
       "      <th>1455</th>\n",
       "      <td>2916</td>\n",
       "      <td>160</td>\n",
       "      <td>21.0</td>\n",
       "      <td>1894</td>\n",
       "      <td>4</td>\n",
       "      <td>5</td>\n",
       "      <td>1970</td>\n",
       "      <td>1970</td>\n",
       "      <td>0.0</td>\n",
       "      <td>252.0</td>\n",
       "      <td>...</td>\n",
       "      <td>286.0</td>\n",
       "      <td>0</td>\n",
       "      <td>24</td>\n",
       "      <td>0</td>\n",
       "      <td>0</td>\n",
       "      <td>0</td>\n",
       "      <td>0</td>\n",
       "      <td>0</td>\n",
       "      <td>4</td>\n",
       "      <td>2006</td>\n",
       "    </tr>\n",
       "    <tr>\n",
       "      <th>1456</th>\n",
       "      <td>2917</td>\n",
       "      <td>20</td>\n",
       "      <td>160.0</td>\n",
       "      <td>20000</td>\n",
       "      <td>5</td>\n",
       "      <td>7</td>\n",
       "      <td>1960</td>\n",
       "      <td>1996</td>\n",
       "      <td>0.0</td>\n",
       "      <td>1224.0</td>\n",
       "      <td>...</td>\n",
       "      <td>576.0</td>\n",
       "      <td>474</td>\n",
       "      <td>0</td>\n",
       "      <td>0</td>\n",
       "      <td>0</td>\n",
       "      <td>0</td>\n",
       "      <td>0</td>\n",
       "      <td>0</td>\n",
       "      <td>9</td>\n",
       "      <td>2006</td>\n",
       "    </tr>\n",
       "    <tr>\n",
       "      <th>1457</th>\n",
       "      <td>2918</td>\n",
       "      <td>85</td>\n",
       "      <td>62.0</td>\n",
       "      <td>10441</td>\n",
       "      <td>5</td>\n",
       "      <td>5</td>\n",
       "      <td>1992</td>\n",
       "      <td>1992</td>\n",
       "      <td>0.0</td>\n",
       "      <td>337.0</td>\n",
       "      <td>...</td>\n",
       "      <td>0.0</td>\n",
       "      <td>80</td>\n",
       "      <td>32</td>\n",
       "      <td>0</td>\n",
       "      <td>0</td>\n",
       "      <td>0</td>\n",
       "      <td>0</td>\n",
       "      <td>700</td>\n",
       "      <td>7</td>\n",
       "      <td>2006</td>\n",
       "    </tr>\n",
       "    <tr>\n",
       "      <th>1458</th>\n",
       "      <td>2919</td>\n",
       "      <td>60</td>\n",
       "      <td>74.0</td>\n",
       "      <td>9627</td>\n",
       "      <td>7</td>\n",
       "      <td>5</td>\n",
       "      <td>1993</td>\n",
       "      <td>1994</td>\n",
       "      <td>94.0</td>\n",
       "      <td>758.0</td>\n",
       "      <td>...</td>\n",
       "      <td>650.0</td>\n",
       "      <td>190</td>\n",
       "      <td>48</td>\n",
       "      <td>0</td>\n",
       "      <td>0</td>\n",
       "      <td>0</td>\n",
       "      <td>0</td>\n",
       "      <td>0</td>\n",
       "      <td>11</td>\n",
       "      <td>2006</td>\n",
       "    </tr>\n",
       "  </tbody>\n",
       "</table>\n",
       "<p>1459 rows × 37 columns</p>\n",
       "</div>"
      ],
      "text/plain": [
       "        Id  MSSubClass  LotFrontage  LotArea  OverallQual  OverallCond  \\\n",
       "0     1461          20         80.0    11622            5            6   \n",
       "1     1462          20         81.0    14267            6            6   \n",
       "2     1463          60         74.0    13830            5            5   \n",
       "3     1464          60         78.0     9978            6            6   \n",
       "4     1465         120         43.0     5005            8            5   \n",
       "...    ...         ...          ...      ...          ...          ...   \n",
       "1454  2915         160         21.0     1936            4            7   \n",
       "1455  2916         160         21.0     1894            4            5   \n",
       "1456  2917          20        160.0    20000            5            7   \n",
       "1457  2918          85         62.0    10441            5            5   \n",
       "1458  2919          60         74.0     9627            7            5   \n",
       "\n",
       "      YearBuilt  YearRemodAdd  MasVnrArea  BsmtFinSF1  ...  GarageArea  \\\n",
       "0          1961          1961         0.0       468.0  ...       730.0   \n",
       "1          1958          1958       108.0       923.0  ...       312.0   \n",
       "2          1997          1998         0.0       791.0  ...       482.0   \n",
       "3          1998          1998        20.0       602.0  ...       470.0   \n",
       "4          1992          1992         0.0       263.0  ...       506.0   \n",
       "...         ...           ...         ...         ...  ...         ...   \n",
       "1454       1970          1970         0.0         0.0  ...         0.0   \n",
       "1455       1970          1970         0.0       252.0  ...       286.0   \n",
       "1456       1960          1996         0.0      1224.0  ...       576.0   \n",
       "1457       1992          1992         0.0       337.0  ...         0.0   \n",
       "1458       1993          1994        94.0       758.0  ...       650.0   \n",
       "\n",
       "      WoodDeckSF  OpenPorchSF  EnclosedPorch  3SsnPorch  ScreenPorch  \\\n",
       "0            140            0              0          0          120   \n",
       "1            393           36              0          0            0   \n",
       "2            212           34              0          0            0   \n",
       "3            360           36              0          0            0   \n",
       "4              0           82              0          0          144   \n",
       "...          ...          ...            ...        ...          ...   \n",
       "1454           0            0              0          0            0   \n",
       "1455           0           24              0          0            0   \n",
       "1456         474            0              0          0            0   \n",
       "1457          80           32              0          0            0   \n",
       "1458         190           48              0          0            0   \n",
       "\n",
       "      PoolArea  MiscVal  MoSold  YrSold  \n",
       "0            0        0       6    2010  \n",
       "1            0    12500       6    2010  \n",
       "2            0        0       3    2010  \n",
       "3            0        0       6    2010  \n",
       "4            0        0       1    2010  \n",
       "...        ...      ...     ...     ...  \n",
       "1454         0        0       6    2006  \n",
       "1455         0        0       4    2006  \n",
       "1456         0        0       9    2006  \n",
       "1457         0      700       7    2006  \n",
       "1458         0        0      11    2006  \n",
       "\n",
       "[1459 rows x 37 columns]"
      ]
     },
     "execution_count": 49,
     "metadata": {},
     "output_type": "execute_result"
    }
   ],
   "source": [
    "dfbas_test"
   ]
  },
  {
   "cell_type": "code",
   "execution_count": 15,
   "metadata": {},
   "outputs": [
    {
     "data": {
      "text/plain": [
       "LotFrontage     17.739726\n",
       "GarageYrBlt      5.547945\n",
       "MasVnrArea       0.547945\n",
       "BsmtFinSF1       0.000000\n",
       "LowQualFinSF     0.000000\n",
       "2ndFlrSF         0.000000\n",
       "1stFlrSF         0.000000\n",
       "TotalBsmtSF      0.000000\n",
       "BsmtUnfSF        0.000000\n",
       "BsmtFinSF2       0.000000\n",
       "SalePrice        0.000000\n",
       "BsmtFullBath     0.000000\n",
       "YearRemodAdd     0.000000\n",
       "YearBuilt        0.000000\n",
       "OverallCond      0.000000\n",
       "OverallQual      0.000000\n",
       "LotArea          0.000000\n",
       "MSSubClass       0.000000\n",
       "GrLivArea        0.000000\n",
       "BsmtHalfBath     0.000000\n",
       "dtype: float64"
      ]
     },
     "execution_count": 15,
     "metadata": {},
     "output_type": "execute_result"
    }
   ],
   "source": [
    "tmp=  dfbas_train.isnull().sum()/dfbas_train.shape[0] * 100\n",
    "tmp.sort_values(ascending=False)[:20]"
   ]
  },
  {
   "cell_type": "code",
   "execution_count": 17,
   "metadata": {},
   "outputs": [],
   "source": [
    "# dfbas_train = dfbas_train.fillna(0)\n",
    "#dfbas_train.isnull().sum()/dfbas_train.shape[0] * 100\n",
    "\n",
    "def fillna(df):\n",
    "    df = df.fillna(0)\n",
    "    return df \n",
    "\n"
   ]
  },
  {
   "cell_type": "code",
   "execution_count": 18,
   "metadata": {},
   "outputs": [],
   "source": [
    "# dfbas_test = dfbas_test.fillna(0)"
   ]
  },
  {
   "cell_type": "code",
   "execution_count": 19,
   "metadata": {},
   "outputs": [],
   "source": [
    "dfbas_train = fillna(dfbas_train)\n",
    "dfbas_test = fillna(dfbas_test)\n"
   ]
  },
  {
   "cell_type": "code",
   "execution_count": 20,
   "metadata": {},
   "outputs": [],
   "source": [
    "from sklearn.model_selection import train_test_split\n",
    "from sklearn.linear_model import LinearRegression\n",
    "from sklearn.metrics import mean_squared_error,mean_absolute_error"
   ]
  },
  {
   "cell_type": "code",
   "execution_count": 21,
   "metadata": {},
   "outputs": [],
   "source": [
    "y=dfbas_train['SalePrice']\n",
    "X=dfbas_train.drop(['SalePrice'],axis=1)"
   ]
  },
  {
   "cell_type": "code",
   "execution_count": 22,
   "metadata": {},
   "outputs": [],
   "source": [
    "X_train, X_test, y_train, y_test = train_test_split(X, y, test_size=0.2, random_state=0)"
   ]
  },
  {
   "cell_type": "code",
   "execution_count": 24,
   "metadata": {},
   "outputs": [],
   "source": [
    "linreg = LinearRegression()\n",
    "#linreg.fit(X_train, y_train)"
   ]
  },
  {
   "cell_type": "code",
   "execution_count": 95,
   "metadata": {},
   "outputs": [
    {
     "data": {
      "text/plain": [
       "array([240520.7320477 , 152606.89746189,  93691.76458044, 228699.83959248,\n",
       "       101072.84618282,  92876.60746788, 253873.75939356, 132661.72010434,\n",
       "       507795.05898767, 143555.65365829, 183749.47255916, 145017.04335986,\n",
       "       246266.86576461, 109080.16362752, 134933.52162477, 140858.41758382,\n",
       "       235288.71660769, 115588.8962441 , 120339.58333493, 168960.31410889,\n",
       "       122086.15638666, 152375.96167277, 108938.09971833, 158998.23076656,\n",
       "       200499.56812674, 198422.47584007, 152912.69430564,  63863.93437986,\n",
       "       318163.00945156, 120827.61382956, 161270.26796403, 216588.38061138,\n",
       "       149725.92974785, 290575.3007748 , 297183.47290645, 195957.1129474 ,\n",
       "       270343.8593536 , 112048.7122755 , 222360.5079188 , 330956.0037581 ,\n",
       "       216462.24642052, 119638.8785242 , 187169.17161112, 293294.58665869,\n",
       "       334759.29664571, 107835.83888949, 130032.60204322, 116158.35528175,\n",
       "       187763.94637347,  86350.3293182 , 380442.09478017, 153106.7444271 ,\n",
       "       204788.16598067,  79487.82376019, 244319.11426724,  99105.6764679 ,\n",
       "       135270.05836474, 245974.17156576, 135134.91960323,  83870.72064626,\n",
       "       154018.31457006, 122500.21577367, 151256.08469075, 154669.07135766,\n",
       "       230983.89225591, 168324.21719495, 122919.97430534, 204862.18248938,\n",
       "       129409.29549012, 198474.00013772, 189714.65661821,  87406.3382449 ,\n",
       "        46491.42866051, 258063.42835907,  55159.45852353, 256200.57237131,\n",
       "       111882.2286886 ,  78053.33577795, 288348.61183893, 168633.69026617,\n",
       "       137807.86638588, 129276.76178867, 124750.76677613, 140151.38968224,\n",
       "       275173.95066116, 202114.72627603,  86330.5202553 , 194986.84202067,\n",
       "       168418.61853275, 141402.28165486, 191840.27272721, 187107.63791874,\n",
       "       176333.17700333, 235376.10174492, 197184.87093527, 160167.40958303,\n",
       "       227649.22848965, 167332.14054991,  97519.26950831, 153958.73559645,\n",
       "       258187.11145728, 205271.99088772, 124447.78629571, 167544.45815211,\n",
       "       121001.53190486, 272169.53951909, 181107.11373175,  92713.69553841,\n",
       "       178277.24417305, 140645.92170148,  78413.3248981 , 105730.37139481,\n",
       "       192214.23832373, 108412.23575745, 177042.53934117, 163304.25734715,\n",
       "       374228.20508373, 114833.08612097, 220831.77749169, 264379.08195912,\n",
       "       183721.20858184, 166908.69153239, 121089.95315796, 214094.10644781,\n",
       "       232591.21821665, 236048.44938625, 318846.32432347, 201928.94748707,\n",
       "       197892.92683034, 199993.24577185, 232689.21884924, 207226.7930584 ,\n",
       "       138941.68017302, 207483.67871829,  74306.97452318, 232035.93374762,\n",
       "       149079.11337324, 190540.1865014 ,  88360.53950808, 177399.39514584,\n",
       "       148120.26942745, 124915.36529239, 228185.81715829, 150015.88539616,\n",
       "       142415.0376307 , 173204.69898638, 228874.84520883, 133294.72652734,\n",
       "       275834.5168441 , 229258.18510904, 201107.31732311, 341207.29089932,\n",
       "       283304.06182846, 175059.04126422, 173585.2884829 , 319262.27092846,\n",
       "       143618.63127049, 180437.07053371, 141645.05465607, 172726.56620581,\n",
       "       115319.88579078, 146630.71475244, 189247.2390879 , 101240.00802607,\n",
       "       250668.84456665, 140278.29778234, 150645.61783915, 287284.86957054,\n",
       "       212484.02925588, 179558.12540858, 198791.988397  , 177754.6566785 ,\n",
       "       204078.89462042, 194142.48843625, 117615.96189223, 110575.10886947,\n",
       "       145808.4042064 , 270597.73334185, 139234.65868924, 145067.75559993,\n",
       "       310714.68640506, 201445.14174715, 127730.51478336, 286217.09048967,\n",
       "        93999.32971613, 197857.03821387, 103444.07804798, 214481.29908658,\n",
       "       203760.98187286, 151503.92611835, 136306.55285268, 180327.82476703,\n",
       "       211812.18188612, 125838.36244493, 114181.56558316, 155898.6416633 ,\n",
       "        49203.29667603, 135670.12315913, 184746.25895473, 141326.51396658,\n",
       "       129221.20888797, 198739.51713873, 111498.13628385, 131355.39879658,\n",
       "       113134.09797173, 225587.34229624, 179131.77914155, 311215.08381694,\n",
       "       260293.86950565,  46369.75955192, 156490.63954485, 239919.22369941,\n",
       "        35151.98089739, 104219.98894808, 357322.12169843, 220081.57388166,\n",
       "       212641.88803935, 274220.24547498, 247937.66496349,  77157.41858433,\n",
       "       215134.73187016, 176011.90279477, 149607.62019894, 112797.15680935,\n",
       "       201104.73224366, 278752.35680908, 243779.19842806, 228574.82604434,\n",
       "       137118.33972005, 181230.81331303,  41439.83830115, 170397.26513562,\n",
       "        96957.01131035, 134889.73047179, 231639.52377536, 115554.4803726 ,\n",
       "       126974.83938625, 112585.46334171,  63412.9327306 , 192409.5231782 ,\n",
       "       115712.55840663, 184916.04514831, 216896.96544236, 220009.46233016,\n",
       "       197825.83581644, 157605.60925803, 210281.55952569, 193974.59459008,\n",
       "       146685.59492643, 206946.61619294, 190981.53777244, 267163.31284933,\n",
       "        97647.28616452, 385361.78900568, 228582.00246859, 237562.09043202,\n",
       "       119958.11026568, 253273.59811414, 423336.32143408, 800345.14865408,\n",
       "       223450.07106244,  91255.35170839, 142586.87085182,  58835.31846512,\n",
       "       400298.50417532, 306264.15266097, 327381.39924218,  52324.1787672 ,\n",
       "       202836.06147521, 253800.96526411, 123071.48472997, 225209.89021689,\n",
       "       128361.35091191, 188800.09357621, 141433.9093517 , 233880.57623   ,\n",
       "       232492.78045553, 176871.98434908, 208621.14015961, 105832.9579041 ,\n",
       "       140289.87217261, 334120.17734297, 152238.15613784, 138700.26171258,\n",
       "       207938.13827453, 188153.95744426, 130814.96379235, 272448.15247734,\n",
       "       426496.57276112, 186748.22961067,  79029.98577809,  92353.03505297])"
      ]
     },
     "execution_count": 95,
     "metadata": {},
     "output_type": "execute_result"
    }
   ],
   "source": [
    "def model_train(classifier, X_train, y_train, X_test):\n",
    "    classifier.fit(X_train, y_train)\n",
    "    y_pred = classifier.predict(X_test)\n",
    "    return y_pred\n",
    "\n",
    "model_train(linreg, X_train, y_train, X_test)    "
   ]
  },
  {
   "cell_type": "code",
   "execution_count": 29,
   "metadata": {},
   "outputs": [],
   "source": [
    "# y_pred = linreg.predict(X_test)"
   ]
  },
  {
   "cell_type": "code",
   "execution_count": 96,
   "metadata": {},
   "outputs": [
    {
     "data": {
      "text/html": [
       "<div>\n",
       "<style scoped>\n",
       "    .dataframe tbody tr th:only-of-type {\n",
       "        vertical-align: middle;\n",
       "    }\n",
       "\n",
       "    .dataframe tbody tr th {\n",
       "        vertical-align: top;\n",
       "    }\n",
       "\n",
       "    .dataframe thead th {\n",
       "        text-align: right;\n",
       "    }\n",
       "</style>\n",
       "<table border=\"1\" class=\"dataframe\">\n",
       "  <thead>\n",
       "    <tr style=\"text-align: right;\">\n",
       "      <th></th>\n",
       "      <th>Actual</th>\n",
       "      <th>Predicted</th>\n",
       "    </tr>\n",
       "  </thead>\n",
       "  <tbody>\n",
       "    <tr>\n",
       "      <th>529</th>\n",
       "      <td>200624</td>\n",
       "      <td>250434.0</td>\n",
       "    </tr>\n",
       "    <tr>\n",
       "      <th>491</th>\n",
       "      <td>133000</td>\n",
       "      <td>145888.0</td>\n",
       "    </tr>\n",
       "    <tr>\n",
       "      <th>459</th>\n",
       "      <td>110000</td>\n",
       "      <td>113639.0</td>\n",
       "    </tr>\n",
       "    <tr>\n",
       "      <th>279</th>\n",
       "      <td>192000</td>\n",
       "      <td>229442.0</td>\n",
       "    </tr>\n",
       "    <tr>\n",
       "      <th>655</th>\n",
       "      <td>88000</td>\n",
       "      <td>116675.0</td>\n",
       "    </tr>\n",
       "  </tbody>\n",
       "</table>\n",
       "</div>"
      ],
      "text/plain": [
       "     Actual  Predicted\n",
       "529  200624   250434.0\n",
       "491  133000   145888.0\n",
       "459  110000   113639.0\n",
       "279  192000   229442.0\n",
       "655   88000   116675.0"
      ]
     },
     "execution_count": 96,
     "metadata": {},
     "output_type": "execute_result"
    }
   ],
   "source": [
    "resuts= pd.DataFrame({'Actual': y_test, 'Predicted':  np.floor(y_pred)})\n",
    "resuts.head()"
   ]
  },
  {
   "cell_type": "code",
   "execution_count": 97,
   "metadata": {},
   "outputs": [],
   "source": [
    "from sklearn.metrics import mean_squared_log_error\n",
    "def compute_rmsle(y_test: np.ndarray, y_pred: np.ndarray, precision: int = 2) -> float:\n",
    "    rmsle = np.sqrt(mean_squared_log_error(y_test, y_pred))\n",
    "    return rmsle"
   ]
  },
  {
   "cell_type": "code",
   "execution_count": 98,
   "metadata": {},
   "outputs": [],
   "source": [
    "# print('Log RMSE:' , compute_rmsle(y_test, y_pred))\n",
    "# print('Mean Absolute Error:', mean_absolute_error(y_test, y_pred))\n",
    "# print('Mean Squared Error:', mean_squared_error(y_test, y_pred))\n",
    "# print('Root Mean Squared Error:', np.sqrt(mean_squared_error(y_test, y_pred)))"
   ]
  },
  {
   "cell_type": "code",
   "execution_count": 99,
   "metadata": {},
   "outputs": [],
   "source": [
    "# results_df = pd.DataFrame(columns = ['MODEL', 'LRMSE', 'RMSE','MSE','MAE'])\n",
    "# def to_result_df(classifier, rmsle, MAE, MSE, RMSE, results_df):\n",
    "#     results_df1=results_df.append({'MODEL':classifier ,'LRMSE':rmsle, 'MAE':MAE, 'MSE': MSE, 'RMSE':RMSE}, ignore_index=True)\n",
    "#     return results_df1\n",
    "    \n",
    "    "
   ]
  },
  {
   "cell_type": "code",
   "execution_count": 134,
   "metadata": {},
   "outputs": [
    {
     "name": "stdout",
     "output_type": "stream",
     "text": [
      "Log Root Mean Squared Error 0.144\n"
     ]
    }
   ],
   "source": [
    "\n",
    "\n",
    "\n",
    "def model_evalution(y_test, y_pred, classifier):\n",
    "    MAE = np.floor(mean_absolute_error(y_test, y_pred))\n",
    "    MSE = np.floor(mean_squared_error(y_test, y_pred))\n",
    "    RMSE = np.floor(np.sqrt(mean_squared_error(y_test, y_pred)))\n",
    "    rmsle = np.round(compute_rmsle(y_test, y_pred),3)\n",
    "    print(\"Log Root Mean Squared Error\", rmsle)\n",
    "    \n",
    "    #results_df = to_result_df(classifier, rmsle, MAE, MSE, RMSE, results_df)\n",
    "    \n",
    "    return \n",
    "model_evalution(y_test, y_pred , linreg)    "
   ]
  },
  {
   "cell_type": "code",
   "execution_count": 53,
   "metadata": {},
   "outputs": [
    {
     "data": {
      "text/html": [
       "<div>\n",
       "<style scoped>\n",
       "    .dataframe tbody tr th:only-of-type {\n",
       "        vertical-align: middle;\n",
       "    }\n",
       "\n",
       "    .dataframe tbody tr th {\n",
       "        vertical-align: top;\n",
       "    }\n",
       "\n",
       "    .dataframe thead th {\n",
       "        text-align: right;\n",
       "    }\n",
       "</style>\n",
       "<table border=\"1\" class=\"dataframe\">\n",
       "  <thead>\n",
       "    <tr style=\"text-align: right;\">\n",
       "      <th></th>\n",
       "      <th>Id</th>\n",
       "      <th>SalePrice</th>\n",
       "    </tr>\n",
       "  </thead>\n",
       "  <tbody>\n",
       "    <tr>\n",
       "      <th>0</th>\n",
       "      <td>1461</td>\n",
       "      <td>132842.025462</td>\n",
       "    </tr>\n",
       "    <tr>\n",
       "      <th>1</th>\n",
       "      <td>1462</td>\n",
       "      <td>167826.121521</td>\n",
       "    </tr>\n",
       "    <tr>\n",
       "      <th>2</th>\n",
       "      <td>1463</td>\n",
       "      <td>182960.850937</td>\n",
       "    </tr>\n",
       "    <tr>\n",
       "      <th>3</th>\n",
       "      <td>1464</td>\n",
       "      <td>204310.318884</td>\n",
       "    </tr>\n",
       "    <tr>\n",
       "      <th>4</th>\n",
       "      <td>1465</td>\n",
       "      <td>192616.160746</td>\n",
       "    </tr>\n",
       "  </tbody>\n",
       "</table>\n",
       "</div>"
      ],
      "text/plain": [
       "     Id      SalePrice\n",
       "0  1461  132842.025462\n",
       "1  1462  167826.121521\n",
       "2  1463  182960.850937\n",
       "3  1464  204310.318884\n",
       "4  1465  192616.160746"
      ]
     },
     "execution_count": 53,
     "metadata": {},
     "output_type": "execute_result"
    }
   ],
   "source": [
    "#basepipeline\n",
    "\n",
    "\n",
    "def submission_to_csv(classifier, test_df):\n",
    "    \n",
    "    y_pred = classifier.predict(test_df)\n",
    "    ID=test_df['Id']\n",
    "    df_submission = pd.DataFrame({'Id': ID, 'SalePrice': y_pred})\n",
    "    \n",
    "    df_submission.to_csv('submission2.csv',index=False)\n",
    "    return df_submission.head()\n",
    "    \n",
    "submission_to_csv(linreg, dfbas_test)    "
   ]
  },
  {
   "cell_type": "markdown",
   "metadata": {},
   "source": [
    "#### Linear Reg with L1 and L2 regularaization "
   ]
  },
  {
   "cell_type": "code",
   "execution_count": 136,
   "metadata": {},
   "outputs": [],
   "source": [
    "from sklearn.linear_model import Ridge\n",
    "from sklearn.linear_model import Lasso"
   ]
  },
  {
   "cell_type": "code",
   "execution_count": 137,
   "metadata": {},
   "outputs": [],
   "source": [
    "# l2 = Ridge(alpha=1.0, normalize=True)\n",
    "\n",
    "# y_pred= model_train(l2, X_train, y_train, X_test)  \n",
    "# model_evalution(y_test, y_pred, results_df, l2) "
   ]
  },
  {
   "cell_type": "code",
   "execution_count": 138,
   "metadata": {},
   "outputs": [],
   "source": [
    "# l1 = Lasso(alpha=1.0, normalize=True)\n",
    "# y_pred = model_train(l1, X_train, y_train, X_test)  \n",
    "# model_evalution(y_test, y_pred, results_df, l1) \n"
   ]
  },
  {
   "cell_type": "markdown",
   "metadata": {},
   "source": [
    "#### Tree Regressors Decision Tree and Random Forest"
   ]
  },
  {
   "cell_type": "code",
   "execution_count": 139,
   "metadata": {},
   "outputs": [],
   "source": [
    "from sklearn.tree import DecisionTreeRegressor\n",
    "from sklearn.ensemble import RandomForestRegressor"
   ]
  },
  {
   "cell_type": "code",
   "execution_count": 140,
   "metadata": {},
   "outputs": [],
   "source": [
    "# decision = DecisionTreeRegressor(random_state=0)\n",
    "# y_pred = model_train(decision, X_train, y_train, X_test)  \n",
    "# model_evalution(y_test, y_pred, results_df, decision) \n"
   ]
  },
  {
   "cell_type": "code",
   "execution_count": 141,
   "metadata": {},
   "outputs": [],
   "source": [
    "# regressor1 = RandomForestRegressor(random_state=0)\n",
    "# y_pred = model_train(regressor1, X_train, y_train, X_test)  \n",
    "# model_evalution(y_test, y_pred, results_df, regressor1) \n"
   ]
  },
  {
   "cell_type": "code",
   "execution_count": 142,
   "metadata": {},
   "outputs": [
    {
     "name": "stdout",
     "output_type": "stream",
     "text": [
      "LinearRegression()\n",
      "Log Root Mean Squared Error 0.208\n",
      "Lasso(normalize=True)\n",
      "Log Root Mean Squared Error 0.208\n",
      "Ridge(normalize=True)\n",
      "Log Root Mean Squared Error 0.184\n",
      "DecisionTreeRegressor(random_state=0)\n",
      "Log Root Mean Squared Error 0.22\n",
      "RandomForestRegressor(random_state=0)\n"
     ]
    },
    {
     "name": "stderr",
     "output_type": "stream",
     "text": [
      "C:\\ProgramData\\Anaconda3\\lib\\site-packages\\sklearn\\linear_model\\_coordinate_descent.py:529: ConvergenceWarning: Objective did not converge. You might want to increase the number of iterations. Duality gap: 1939335250.5950928, tolerance: 719132949.9230078\n",
      "  model = cd_fast.enet_coordinate_descent(\n"
     ]
    },
    {
     "name": "stdout",
     "output_type": "stream",
     "text": [
      "Log Root Mean Squared Error 0.144\n"
     ]
    }
   ],
   "source": [
    "linreg = LinearRegression()\n",
    "l2 = Ridge(alpha=1.0, normalize=True)\n",
    "l1 = Lasso(alpha=1.0, normalize=True)\n",
    "decision = DecisionTreeRegressor(random_state=0)\n",
    "regressor1 = RandomForestRegressor(random_state=0)\n",
    "\n",
    "classifiers= [linreg, l1, l2, decision, regressor1]\n",
    "for i in classifiers:\n",
    "    print(i)\n",
    "    y_pred = model_train(i, X_train, y_train, X_test)  \n",
    "    model_evalution(y_test, y_pred, i)\n",
    " \n"
   ]
  },
  {
   "cell_type": "markdown",
   "metadata": {},
   "source": [
    "### REsults of the Basic Pipeline\n",
    "#### All non numeric columns are removed and Nan values are filled with 0"
   ]
  },
  {
   "cell_type": "code",
   "execution_count": 85,
   "metadata": {},
   "outputs": [
    {
     "data": {
      "text/html": [
       "<div>\n",
       "<style scoped>\n",
       "    .dataframe tbody tr th:only-of-type {\n",
       "        vertical-align: middle;\n",
       "    }\n",
       "\n",
       "    .dataframe tbody tr th {\n",
       "        vertical-align: top;\n",
       "    }\n",
       "\n",
       "    .dataframe thead th {\n",
       "        text-align: right;\n",
       "    }\n",
       "</style>\n",
       "<table border=\"1\" class=\"dataframe\">\n",
       "  <thead>\n",
       "    <tr style=\"text-align: right;\">\n",
       "      <th></th>\n",
       "      <th>MODEL</th>\n",
       "      <th>LRMSE</th>\n",
       "      <th>RMSE</th>\n",
       "      <th>MSE</th>\n",
       "      <th>MAE</th>\n",
       "    </tr>\n",
       "  </thead>\n",
       "  <tbody>\n",
       "  </tbody>\n",
       "</table>\n",
       "</div>"
      ],
      "text/plain": [
       "Empty DataFrame\n",
       "Columns: [MODEL, LRMSE, RMSE, MSE, MAE]\n",
       "Index: []"
      ]
     },
     "execution_count": 85,
     "metadata": {},
     "output_type": "execute_result"
    }
   ],
   "source": [
    "results_df"
   ]
  },
  {
   "cell_type": "markdown",
   "metadata": {},
   "source": [
    "### Feature Engineering and Model Improvement "
   ]
  },
  {
   "cell_type": "code",
   "execution_count": 173,
   "metadata": {},
   "outputs": [
    {
     "data": {
      "text/plain": [
       "['BsmtFinSF2',\n",
       " 'BsmtHalfBath',\n",
       " 'MiscVal',\n",
       " 'Id',\n",
       " 'LowQualFinSF',\n",
       " 'YrSold',\n",
       " 'OverallCond',\n",
       " 'MSSubClass',\n",
       " 'EnclosedPorch',\n",
       " 'KitchenAbvGr']"
      ]
     },
     "execution_count": 173,
     "metadata": {},
     "output_type": "execute_result"
    }
   ],
   "source": [
    "df_train.corr()['SalePrice'].sort_values(ascending = False)\n",
    "x =pd.DataFrame(df_train.corr()['SalePrice'].sort_values(ascending = False))\n",
    "y  = x[x['SalePrice'] <  0].index\n",
    "y.tolist()"
   ]
  },
  {
   "cell_type": "code",
   "execution_count": 175,
   "metadata": {},
   "outputs": [],
   "source": [
    "df_train1 = df_train.drop(y, axis =1)"
   ]
  },
  {
   "cell_type": "code",
   "execution_count": 181,
   "metadata": {},
   "outputs": [],
   "source": [
    "df_train22 = pd.read_csv('train.csv')"
   ]
  },
  {
   "cell_type": "code",
   "execution_count": 185,
   "metadata": {},
   "outputs": [],
   "source": [
    "from sklearn.preprocessing  import LabelEncoder\n",
    "def preproces(df):\n",
    "    \n",
    "    ##droping negatively correalted colns with target variablt\n",
    "    df.corr()['SalePrice'].sort_values(ascending = False)\n",
    "    x =pd.DataFrame(df.corr()['SalePrice'].sort_values(ascending = False))\n",
    "    to_drop  = x[x['SalePrice'] <  0].index\n",
    "    to_drop.tolist()    \n",
    "    df_1 = df.drop(to_drop, axis =1)\n",
    "        \n",
    "    ###remove colms having more than 75% Null values \n",
    "    X=  pd.DataFrame(df_1.isnull().sum()/df_1.shape[0] * 100, columns=['Missing_count'])\n",
    "    to_drop_1  = X[X['Missing_count'] > 75 ].index\n",
    "    to_drop_1.tolist()\n",
    "    df_2 = df_1.drop(to_drop_1, axis =1)\n",
    "    \n",
    "    ###lets do label encoding\n",
    "    le=LabelEncoder()\n",
    "    df_processed = df_2.apply(lambda col: le.fit_transform(col.astype(str)), axis=0, result_type='expand')\n",
    "    \n",
    "    return df_processed"
   ]
  },
  {
   "cell_type": "code",
   "execution_count": 196,
   "metadata": {},
   "outputs": [],
   "source": [
    "# df_train22.info()"
   ]
  },
  {
   "cell_type": "code",
   "execution_count": 187,
   "metadata": {},
   "outputs": [],
   "source": [
    "new_df = preproces(df_train22)"
   ]
  },
  {
   "cell_type": "code",
   "execution_count": null,
   "metadata": {},
   "outputs": [],
   "source": []
  },
  {
   "cell_type": "markdown",
   "metadata": {},
   "source": [
    "#### Removing negatvely correlated columns "
   ]
  },
  {
   "cell_type": "code",
   "execution_count": 130,
   "metadata": {},
   "outputs": [],
   "source": [
    "# df_train1 = df_train.drop(['BsmtHalfBath','BsmtHalfBath', 'MiscVal','LowQualFinSF',\n",
    "#            'YrSold','OverallCond','MSSubClass','EnclosedPorch','KitchenAbvGr' ]  , axis=1)"
   ]
  },
  {
   "cell_type": "code",
   "execution_count": 179,
   "metadata": {},
   "outputs": [
    {
     "data": {
      "text/plain": [
       "['Alley', 'PoolQC', 'Fence', 'MiscFeature']"
      ]
     },
     "execution_count": 179,
     "metadata": {},
     "output_type": "execute_result"
    }
   ],
   "source": [
    "# X=  pd.DataFrame(df_train1.isnull().sum()/df_train1.shape[0] * 100, columns=['Missing_count'])\n",
    "# y  = X[X['Missing_count'] > 75 ].index\n",
    "# y.tolist()\n",
    "# # X.sort_values(ascending=False)[:20]"
   ]
  },
  {
   "cell_type": "markdown",
   "metadata": {},
   "source": [
    "#### Removing cols with most nan values"
   ]
  },
  {
   "cell_type": "code",
   "execution_count": 162,
   "metadata": {},
   "outputs": [],
   "source": [
    "# df_train1 = df_train1.drop(['PoolQC', 'MiscFeature', 'Alley', 'Fence', 'FireplaceQu'], axis = 1)"
   ]
  },
  {
   "cell_type": "code",
   "execution_count": 163,
   "metadata": {},
   "outputs": [
    {
     "data": {
      "text/plain": [
       "(1460, 68)"
      ]
     },
     "execution_count": 163,
     "metadata": {},
     "output_type": "execute_result"
    }
   ],
   "source": [
    "# df_train1.shape"
   ]
  },
  {
   "cell_type": "markdown",
   "metadata": {},
   "source": [
    "#### Label encoding 38 object colmns "
   ]
  },
  {
   "cell_type": "code",
   "execution_count": 197,
   "metadata": {},
   "outputs": [],
   "source": [
    "from sklearn.preprocessing  import LabelEncoder\n",
    "# le=LabelEncoder()\n"
   ]
  },
  {
   "cell_type": "code",
   "execution_count": 198,
   "metadata": {},
   "outputs": [],
   "source": [
    "#df_col.info()\n",
    "#df_col.apply(LabelEncoder().fit_transform.astype(str))\n",
    "\n",
    "# df_train1 = df_train1.apply(lambda col: le.fit_transform(col.astype(str)), axis=0, result_type='expand')"
   ]
  },
  {
   "cell_type": "code",
   "execution_count": 203,
   "metadata": {},
   "outputs": [],
   "source": [
    "def training_data_prep(df):\n",
    "    y=df['SalePrice']\n",
    "    X=df.drop(['SalePrice'],axis=1)\n",
    "    \n",
    "    X_train, X_test, y_train, y_test = train_test_split(X, y, test_size=0.2, random_state=23)\n",
    "    return X_train, X_test, y_train, y_test"
   ]
  },
  {
   "cell_type": "code",
   "execution_count": 204,
   "metadata": {},
   "outputs": [],
   "source": [
    " X_train, X_test, y_train, y_test = training_data_prep(new_df)"
   ]
  },
  {
   "cell_type": "code",
   "execution_count": 206,
   "metadata": {},
   "outputs": [
    {
     "name": "stdout",
     "output_type": "stream",
     "text": [
      "Lasso(normalize=True)\n",
      "Log Root Mean Squared Error 0.981\n",
      "Ridge(normalize=True)\n",
      "Log Root Mean Squared Error 0.923\n",
      "DecisionTreeRegressor(random_state=0)\n",
      "Log Root Mean Squared Error 1.028\n",
      "RandomForestRegressor(random_state=0)\n",
      "Log Root Mean Squared Error 0.827\n"
     ]
    }
   ],
   "source": [
    "#linreg = LinearRegression()\n",
    "l2 = Ridge(alpha=1.0, normalize=True)\n",
    "l1 = Lasso(alpha=1.0, normalize=True)\n",
    "decision = DecisionTreeRegressor(random_state=0)\n",
    "regressor1 = RandomForestRegressor(random_state=0)\n",
    "\n",
    "classifiers= [ l1, l2, decision, regressor1]\n",
    "for i in classifiers:\n",
    "    print(i)\n",
    "    y_pred = model_train(i, X_train, y_train, X_test)  \n",
    "    model_evalution(y_test, y_pred, i)\n",
    " "
   ]
  },
  {
   "cell_type": "code",
   "execution_count": 182,
   "metadata": {},
   "outputs": [],
   "source": [
    "# y=df_train1['SalePrice']\n",
    "# X=df_train1.drop(['SalePrice'],axis=1)\n"
   ]
  },
  {
   "cell_type": "code",
   "execution_count": 184,
   "metadata": {},
   "outputs": [],
   "source": [
    "# Finalpipeline = pd.DataFrame(columns = ['MODEL', 'LRMSE', 'RMSE','MSE','MAE'])"
   ]
  },
  {
   "cell_type": "code",
   "execution_count": 183,
   "metadata": {},
   "outputs": [],
   "source": [
    "# X_train, X_test, y_train, y_test = train_test_split(X, y, test_size=0.2, random_state=0)"
   ]
  },
  {
   "cell_type": "code",
   "execution_count": 189,
   "metadata": {},
   "outputs": [
    {
     "name": "stdout",
     "output_type": "stream",
     "text": [
      "Mean Absolute Error: 104.57391857173147\n",
      "Mean Squared Error: 22384.606363316398\n",
      "Root Mean Squared Error: 149.61486010191769\n"
     ]
    }
   ],
   "source": [
    "linreg = LinearRegression()\n",
    "# linreg.fit(X_train, y_train)\n",
    "# y_pred = linreg.predict(X_test)\n",
    "\n",
    "# resuts= pd.DataFrame({'Actual': y_test, 'Predicted':  np.floor(y_pred)})\n",
    "# resuts.head()\n",
    "\n",
    "# #print('Log RMSE:' , compute_rmsle(y_test, y_pred))\n",
    "# print('Mean Absolute Error:', mean_absolute_error(y_test, y_pred))\n",
    "# print('Mean Squared Error:', mean_squared_error(y_test, y_pred))\n",
    "# print('Root Mean Squared Error:', np.sqrt(mean_squared_error(y_test, y_pred)))\n",
    "\n",
    "# MAE = np.floor(mean_absolute_error(y_test, y_pred))\n",
    "# MSE = np.floor(mean_squared_error(y_test, y_pred))\n",
    "# RMSE = np.floor(np.sqrt(mean_squared_error(y_test, y_pred)))\n",
    "# #rmsle = np.round(compute_rmsle(y_test, y_pred),3)\n",
    "\n",
    "# Finalpipeline=Finalpipeline.append({'MODEL':'linreg','LRMSE':'NA', 'MAE':MAE, 'MSE': MSE, 'RMSE':RMSE}, ignore_index=True)"
   ]
  },
  {
   "cell_type": "code",
   "execution_count": 190,
   "metadata": {},
   "outputs": [
    {
     "data": {
      "text/html": [
       "<div>\n",
       "<style scoped>\n",
       "    .dataframe tbody tr th:only-of-type {\n",
       "        vertical-align: middle;\n",
       "    }\n",
       "\n",
       "    .dataframe tbody tr th {\n",
       "        vertical-align: top;\n",
       "    }\n",
       "\n",
       "    .dataframe thead th {\n",
       "        text-align: right;\n",
       "    }\n",
       "</style>\n",
       "<table border=\"1\" class=\"dataframe\">\n",
       "  <thead>\n",
       "    <tr style=\"text-align: right;\">\n",
       "      <th></th>\n",
       "      <th>MODEL</th>\n",
       "      <th>LRMSE</th>\n",
       "      <th>RMSE</th>\n",
       "      <th>MSE</th>\n",
       "      <th>MAE</th>\n",
       "    </tr>\n",
       "  </thead>\n",
       "  <tbody>\n",
       "    <tr>\n",
       "      <th>0</th>\n",
       "      <td>linreg</td>\n",
       "      <td>NA</td>\n",
       "      <td>149.0</td>\n",
       "      <td>22384.0</td>\n",
       "      <td>104.0</td>\n",
       "    </tr>\n",
       "  </tbody>\n",
       "</table>\n",
       "</div>"
      ],
      "text/plain": [
       "    MODEL LRMSE   RMSE      MSE    MAE\n",
       "0  linreg    NA  149.0  22384.0  104.0"
      ]
     },
     "execution_count": 190,
     "metadata": {},
     "output_type": "execute_result"
    }
   ],
   "source": [
    "Finalpipeline"
   ]
  },
  {
   "cell_type": "markdown",
   "metadata": {},
   "source": [
    "#### negative Log cannot be computed in LRMSE| might be because the data is not normalized for lin reg"
   ]
  },
  {
   "cell_type": "code",
   "execution_count": 191,
   "metadata": {},
   "outputs": [
    {
     "name": "stdout",
     "output_type": "stream",
     "text": [
      "Log RMSE: 0.9627715265547242\n",
      "Mean Absolute Error: 105.99834013834489\n",
      "Mean Squared Error: 21415.35428173273\n",
      "Root Mean Squared Error: 146.33985882777367\n"
     ]
    }
   ],
   "source": [
    "l2 = Ridge(alpha=1.0, normalize=True)\n",
    "l2.fit(X_train, y_train)\n",
    "y_pred = l2.predict(X_test)\n",
    "\n",
    "resuts= pd.DataFrame({'Actual': y_test, 'Predicted':  np.floor(y_pred)})\n",
    "resuts.head()\n",
    "\n",
    "print('Log RMSE:' , compute_rmsle(y_test, y_pred))\n",
    "print('Mean Absolute Error:', mean_absolute_error(y_test, y_pred))\n",
    "print('Mean Squared Error:', mean_squared_error(y_test, y_pred))\n",
    "print('Root Mean Squared Error:', np.sqrt(mean_squared_error(y_test, y_pred)))\n",
    "\n",
    "MAE = np.floor(mean_absolute_error(y_test, y_pred))\n",
    "MSE = np.floor(mean_squared_error(y_test, y_pred))\n",
    "RMSE = np.floor(np.sqrt(mean_squared_error(y_test, y_pred)))\n",
    "rmsle = np.round(compute_rmsle(y_test, y_pred),3)\n",
    "\n",
    "Finalpipeline=Finalpipeline.append({'MODEL':'Ridge','LRMSE':rmsle, 'MAE':MAE, 'MSE': MSE, 'RMSE':RMSE}, ignore_index=True)"
   ]
  },
  {
   "cell_type": "code",
   "execution_count": 192,
   "metadata": {},
   "outputs": [
    {
     "data": {
      "text/html": [
       "<div>\n",
       "<style scoped>\n",
       "    .dataframe tbody tr th:only-of-type {\n",
       "        vertical-align: middle;\n",
       "    }\n",
       "\n",
       "    .dataframe tbody tr th {\n",
       "        vertical-align: top;\n",
       "    }\n",
       "\n",
       "    .dataframe thead th {\n",
       "        text-align: right;\n",
       "    }\n",
       "</style>\n",
       "<table border=\"1\" class=\"dataframe\">\n",
       "  <thead>\n",
       "    <tr style=\"text-align: right;\">\n",
       "      <th></th>\n",
       "      <th>MODEL</th>\n",
       "      <th>LRMSE</th>\n",
       "      <th>RMSE</th>\n",
       "      <th>MSE</th>\n",
       "      <th>MAE</th>\n",
       "    </tr>\n",
       "  </thead>\n",
       "  <tbody>\n",
       "    <tr>\n",
       "      <th>0</th>\n",
       "      <td>linreg</td>\n",
       "      <td>NA</td>\n",
       "      <td>149.0</td>\n",
       "      <td>22384.0</td>\n",
       "      <td>104.0</td>\n",
       "    </tr>\n",
       "    <tr>\n",
       "      <th>1</th>\n",
       "      <td>Ridge</td>\n",
       "      <td>0.963</td>\n",
       "      <td>146.0</td>\n",
       "      <td>21415.0</td>\n",
       "      <td>105.0</td>\n",
       "    </tr>\n",
       "  </tbody>\n",
       "</table>\n",
       "</div>"
      ],
      "text/plain": [
       "    MODEL  LRMSE   RMSE      MSE    MAE\n",
       "0  linreg     NA  149.0  22384.0  104.0\n",
       "1   Ridge  0.963  146.0  21415.0  105.0"
      ]
     },
     "execution_count": 192,
     "metadata": {},
     "output_type": "execute_result"
    }
   ],
   "source": [
    "Finalpipeline"
   ]
  },
  {
   "cell_type": "code",
   "execution_count": 194,
   "metadata": {},
   "outputs": [
    {
     "name": "stdout",
     "output_type": "stream",
     "text": [
      "Log RMSE: 1.0273443281633563\n",
      "Mean Absolute Error: 127.39344880073742\n",
      "Mean Squared Error: 25915.577837924735\n",
      "Root Mean Squared Error: 160.98316010665442\n"
     ]
    }
   ],
   "source": [
    "l1 = Lasso(alpha=1.0, normalize=True)\n",
    "l1.fit(X_train, y_train)\n",
    "y_pred = l1.predict(X_test)\n",
    "\n",
    "resuts= pd.DataFrame({'Actual': y_test, 'Predicted':  np.floor(y_pred)})\n",
    "resuts.head()\n",
    "\n",
    "print('Log RMSE:' , compute_rmsle(y_test, y_pred))\n",
    "print('Mean Absolute Error:', mean_absolute_error(y_test, y_pred))\n",
    "print('Mean Squared Error:', mean_squared_error(y_test, y_pred))\n",
    "print('Root Mean Squared Error:', np.sqrt(mean_squared_error(y_test, y_pred)))\n",
    "\n",
    "MAE = np.floor(mean_absolute_error(y_test, y_pred))\n",
    "MSE = np.floor(mean_squared_error(y_test, y_pred))\n",
    "RMSE = np.floor(np.sqrt(mean_squared_error(y_test, y_pred)))\n",
    "rmsle = np.round(compute_rmsle(y_test, y_pred),3)\n",
    "\n",
    "Finalpipeline=Finalpipeline.append({'MODEL':'Lasso','LRMSE':rmsle, 'MAE':MAE, 'MSE': MSE, 'RMSE':RMSE}, ignore_index=True)"
   ]
  },
  {
   "cell_type": "code",
   "execution_count": 195,
   "metadata": {},
   "outputs": [
    {
     "data": {
      "text/html": [
       "<div>\n",
       "<style scoped>\n",
       "    .dataframe tbody tr th:only-of-type {\n",
       "        vertical-align: middle;\n",
       "    }\n",
       "\n",
       "    .dataframe tbody tr th {\n",
       "        vertical-align: top;\n",
       "    }\n",
       "\n",
       "    .dataframe thead th {\n",
       "        text-align: right;\n",
       "    }\n",
       "</style>\n",
       "<table border=\"1\" class=\"dataframe\">\n",
       "  <thead>\n",
       "    <tr style=\"text-align: right;\">\n",
       "      <th></th>\n",
       "      <th>MODEL</th>\n",
       "      <th>LRMSE</th>\n",
       "      <th>RMSE</th>\n",
       "      <th>MSE</th>\n",
       "      <th>MAE</th>\n",
       "    </tr>\n",
       "  </thead>\n",
       "  <tbody>\n",
       "    <tr>\n",
       "      <th>0</th>\n",
       "      <td>linreg</td>\n",
       "      <td>NA</td>\n",
       "      <td>149.0</td>\n",
       "      <td>22384.0</td>\n",
       "      <td>104.0</td>\n",
       "    </tr>\n",
       "    <tr>\n",
       "      <th>1</th>\n",
       "      <td>Ridge</td>\n",
       "      <td>0.963</td>\n",
       "      <td>146.0</td>\n",
       "      <td>21415.0</td>\n",
       "      <td>105.0</td>\n",
       "    </tr>\n",
       "    <tr>\n",
       "      <th>2</th>\n",
       "      <td>Lasso</td>\n",
       "      <td>1.027</td>\n",
       "      <td>160.0</td>\n",
       "      <td>25915.0</td>\n",
       "      <td>127.0</td>\n",
       "    </tr>\n",
       "  </tbody>\n",
       "</table>\n",
       "</div>"
      ],
      "text/plain": [
       "    MODEL  LRMSE   RMSE      MSE    MAE\n",
       "0  linreg     NA  149.0  22384.0  104.0\n",
       "1   Ridge  0.963  146.0  21415.0  105.0\n",
       "2   Lasso  1.027  160.0  25915.0  127.0"
      ]
     },
     "execution_count": 195,
     "metadata": {},
     "output_type": "execute_result"
    }
   ],
   "source": [
    "Finalpipeline"
   ]
  },
  {
   "cell_type": "markdown",
   "metadata": {},
   "source": [
    "### Using GridSearchCV to find the optimum params for Tree regressors "
   ]
  },
  {
   "cell_type": "code",
   "execution_count": 196,
   "metadata": {},
   "outputs": [],
   "source": [
    "from sklearn.model_selection import GridSearchCV"
   ]
  },
  {
   "cell_type": "code",
   "execution_count": 199,
   "metadata": {},
   "outputs": [
    {
     "data": {
      "text/plain": [
       "dict_keys(['ccp_alpha', 'criterion', 'max_depth', 'max_features', 'max_leaf_nodes', 'min_impurity_decrease', 'min_impurity_split', 'min_samples_leaf', 'min_samples_split', 'min_weight_fraction_leaf', 'presort', 'random_state', 'splitter'])"
      ]
     },
     "execution_count": 199,
     "metadata": {},
     "output_type": "execute_result"
    }
   ],
   "source": [
    "dec =DecisionTreeRegressor() \n",
    "dec.get_params().keys()"
   ]
  },
  {
   "cell_type": "code",
   "execution_count": 204,
   "metadata": {},
   "outputs": [
    {
     "data": {
      "text/plain": [
       "GridSearchCV(estimator=DecisionTreeRegressor(),\n",
       "             param_grid={'criterion': ['mse', 'mae'],\n",
       "                         'max_depth': [12, 13, 14, 15]})"
      ]
     },
     "execution_count": 204,
     "metadata": {},
     "output_type": "execute_result"
    }
   ],
   "source": [
    "parameters = {'criterion' :['mse', 'mae'], 'max_depth':[12,13,14,15]}\n",
    "grid = GridSearchCV(DecisionTreeRegressor(), parameters,  refit = True, verbose = 0)\n",
    "grid.fit(X_train,y_train )"
   ]
  },
  {
   "cell_type": "code",
   "execution_count": 205,
   "metadata": {},
   "outputs": [
    {
     "data": {
      "text/plain": [
       "{'criterion': 'mse', 'max_depth': 14}"
      ]
     },
     "execution_count": 205,
     "metadata": {},
     "output_type": "execute_result"
    }
   ],
   "source": [
    "grid.best_params_"
   ]
  },
  {
   "cell_type": "code",
   "execution_count": 206,
   "metadata": {},
   "outputs": [
    {
     "name": "stdout",
     "output_type": "stream",
     "text": [
      "Log RMSE: 1.0590902767092318\n",
      "Mean Absolute Error: 106.54532166746463\n",
      "Mean Squared Error: 37068.30549646904\n",
      "Root Mean Squared Error: 192.53131043149588\n"
     ]
    }
   ],
   "source": [
    "dec1 = DecisionTreeRegressor(criterion= 'mse', max_depth= 14)\n",
    "dec1.fit(X_train, y_train)\n",
    "y_pred = dec1.predict(X_test)\n",
    "\n",
    "resuts= pd.DataFrame({'Actual': y_test, 'Predicted':  np.floor(y_pred)})\n",
    "resuts.head()\n",
    "\n",
    "print('Log RMSE:' , compute_rmsle(y_test, y_pred))\n",
    "print('Mean Absolute Error:', mean_absolute_error(y_test, y_pred))\n",
    "print('Mean Squared Error:', mean_squared_error(y_test, y_pred))\n",
    "print('Root Mean Squared Error:', np.sqrt(mean_squared_error(y_test, y_pred)))\n",
    "\n",
    "MAE = np.floor(mean_absolute_error(y_test, y_pred))\n",
    "MSE = np.floor(mean_squared_error(y_test, y_pred))\n",
    "RMSE = np.floor(np.sqrt(mean_squared_error(y_test, y_pred)))\n",
    "rmsle = np.round(compute_rmsle(y_test, y_pred),3)\n",
    "\n",
    "Finalpipeline=Finalpipeline.append({'MODEL':'DeciTree','LRMSE':rmsle, 'MAE':MAE, 'MSE': MSE, 'RMSE':RMSE}, ignore_index=True)"
   ]
  },
  {
   "cell_type": "code",
   "execution_count": 207,
   "metadata": {},
   "outputs": [
    {
     "data": {
      "text/html": [
       "<div>\n",
       "<style scoped>\n",
       "    .dataframe tbody tr th:only-of-type {\n",
       "        vertical-align: middle;\n",
       "    }\n",
       "\n",
       "    .dataframe tbody tr th {\n",
       "        vertical-align: top;\n",
       "    }\n",
       "\n",
       "    .dataframe thead th {\n",
       "        text-align: right;\n",
       "    }\n",
       "</style>\n",
       "<table border=\"1\" class=\"dataframe\">\n",
       "  <thead>\n",
       "    <tr style=\"text-align: right;\">\n",
       "      <th></th>\n",
       "      <th>MODEL</th>\n",
       "      <th>LRMSE</th>\n",
       "      <th>RMSE</th>\n",
       "      <th>MSE</th>\n",
       "      <th>MAE</th>\n",
       "    </tr>\n",
       "  </thead>\n",
       "  <tbody>\n",
       "    <tr>\n",
       "      <th>0</th>\n",
       "      <td>linreg</td>\n",
       "      <td>NA</td>\n",
       "      <td>149.0</td>\n",
       "      <td>22384.0</td>\n",
       "      <td>104.0</td>\n",
       "    </tr>\n",
       "    <tr>\n",
       "      <th>1</th>\n",
       "      <td>Ridge</td>\n",
       "      <td>0.963</td>\n",
       "      <td>146.0</td>\n",
       "      <td>21415.0</td>\n",
       "      <td>105.0</td>\n",
       "    </tr>\n",
       "    <tr>\n",
       "      <th>2</th>\n",
       "      <td>Lasso</td>\n",
       "      <td>1.027</td>\n",
       "      <td>160.0</td>\n",
       "      <td>25915.0</td>\n",
       "      <td>127.0</td>\n",
       "    </tr>\n",
       "    <tr>\n",
       "      <th>3</th>\n",
       "      <td>DeciTree</td>\n",
       "      <td>1.059</td>\n",
       "      <td>192.0</td>\n",
       "      <td>37068.0</td>\n",
       "      <td>106.0</td>\n",
       "    </tr>\n",
       "  </tbody>\n",
       "</table>\n",
       "</div>"
      ],
      "text/plain": [
       "      MODEL  LRMSE   RMSE      MSE    MAE\n",
       "0    linreg     NA  149.0  22384.0  104.0\n",
       "1     Ridge  0.963  146.0  21415.0  105.0\n",
       "2     Lasso  1.027  160.0  25915.0  127.0\n",
       "3  DeciTree  1.059  192.0  37068.0  106.0"
      ]
     },
     "execution_count": 207,
     "metadata": {},
     "output_type": "execute_result"
    }
   ],
   "source": [
    "Finalpipeline"
   ]
  },
  {
   "cell_type": "code",
   "execution_count": 211,
   "metadata": {},
   "outputs": [],
   "source": [
    "# parameters = {'criterion' :['mse', 'mae'], 'max_depth':[4,5,6,7], 'n_estimators' : [50,100,150,200]}\n",
    "# grid = GridSearchCV(RandomForestRegressor(), parameters,  refit = True, verbose = 3)\n",
    "# grid.fit(X_train,y_train )\n",
    "# this cell is commented to remoce the outpur log"
   ]
  },
  {
   "cell_type": "code",
   "execution_count": 209,
   "metadata": {},
   "outputs": [
    {
     "data": {
      "text/plain": [
       "{'criterion': 'mae', 'max_depth': 7, 'n_estimators': 150}"
      ]
     },
     "execution_count": 209,
     "metadata": {},
     "output_type": "execute_result"
    }
   ],
   "source": [
    "grid.best_params_"
   ]
  },
  {
   "cell_type": "code",
   "execution_count": 213,
   "metadata": {},
   "outputs": [
    {
     "name": "stdout",
     "output_type": "stream",
     "text": [
      "Log RMSE: 0.9076907568945614\n",
      "Mean Absolute Error: 82.09454337899544\n",
      "Mean Squared Error: 16119.47499847793\n",
      "Root Mean Squared Error: 126.96249445595313\n"
     ]
    }
   ],
   "source": [
    "reg1 = RandomForestRegressor(criterion= 'mae', max_depth= 7, n_estimators = 150)\n",
    "reg1.fit(X_train, y_train)\n",
    "y_pred = reg1.predict(X_test)\n",
    "\n",
    "resuts= pd.DataFrame({'Actual': y_test, 'Predicted':  np.floor(y_pred)})\n",
    "resuts.head()\n",
    "\n",
    "print('Log RMSE:' , compute_rmsle(y_test, y_pred))\n",
    "print('Mean Absolute Error:', mean_absolute_error(y_test, y_pred))\n",
    "print('Mean Squared Error:', mean_squared_error(y_test, y_pred))\n",
    "print('Root Mean Squared Error:', np.sqrt(mean_squared_error(y_test, y_pred)))\n",
    "\n",
    "MAE = np.floor(mean_absolute_error(y_test, y_pred))\n",
    "MSE = np.floor(mean_squared_error(y_test, y_pred))\n",
    "RMSE = np.floor(np.sqrt(mean_squared_error(y_test, y_pred)))\n",
    "rmsle = np.round(compute_rmsle(y_test, y_pred),3)\n",
    "\n",
    "Finalpipeline=Finalpipeline.append({'MODEL':'RandTree','LRMSE':rmsle, 'MAE':MAE, 'MSE': MSE, 'RMSE':RMSE}, ignore_index=True)"
   ]
  },
  {
   "cell_type": "code",
   "execution_count": 214,
   "metadata": {},
   "outputs": [
    {
     "data": {
      "text/html": [
       "<div>\n",
       "<style scoped>\n",
       "    .dataframe tbody tr th:only-of-type {\n",
       "        vertical-align: middle;\n",
       "    }\n",
       "\n",
       "    .dataframe tbody tr th {\n",
       "        vertical-align: top;\n",
       "    }\n",
       "\n",
       "    .dataframe thead th {\n",
       "        text-align: right;\n",
       "    }\n",
       "</style>\n",
       "<table border=\"1\" class=\"dataframe\">\n",
       "  <thead>\n",
       "    <tr style=\"text-align: right;\">\n",
       "      <th></th>\n",
       "      <th>MODEL</th>\n",
       "      <th>LRMSE</th>\n",
       "      <th>RMSE</th>\n",
       "      <th>MSE</th>\n",
       "      <th>MAE</th>\n",
       "    </tr>\n",
       "  </thead>\n",
       "  <tbody>\n",
       "    <tr>\n",
       "      <th>0</th>\n",
       "      <td>linreg</td>\n",
       "      <td>NA</td>\n",
       "      <td>149.0</td>\n",
       "      <td>22384.0</td>\n",
       "      <td>104.0</td>\n",
       "    </tr>\n",
       "    <tr>\n",
       "      <th>1</th>\n",
       "      <td>Ridge</td>\n",
       "      <td>0.963</td>\n",
       "      <td>146.0</td>\n",
       "      <td>21415.0</td>\n",
       "      <td>105.0</td>\n",
       "    </tr>\n",
       "    <tr>\n",
       "      <th>2</th>\n",
       "      <td>Lasso</td>\n",
       "      <td>1.027</td>\n",
       "      <td>160.0</td>\n",
       "      <td>25915.0</td>\n",
       "      <td>127.0</td>\n",
       "    </tr>\n",
       "    <tr>\n",
       "      <th>3</th>\n",
       "      <td>DeciTree</td>\n",
       "      <td>1.059</td>\n",
       "      <td>192.0</td>\n",
       "      <td>37068.0</td>\n",
       "      <td>106.0</td>\n",
       "    </tr>\n",
       "    <tr>\n",
       "      <th>4</th>\n",
       "      <td>RandTree</td>\n",
       "      <td>0.908</td>\n",
       "      <td>126.0</td>\n",
       "      <td>16119.0</td>\n",
       "      <td>82.0</td>\n",
       "    </tr>\n",
       "  </tbody>\n",
       "</table>\n",
       "</div>"
      ],
      "text/plain": [
       "      MODEL  LRMSE   RMSE      MSE    MAE\n",
       "0    linreg     NA  149.0  22384.0  104.0\n",
       "1     Ridge  0.963  146.0  21415.0  105.0\n",
       "2     Lasso  1.027  160.0  25915.0  127.0\n",
       "3  DeciTree  1.059  192.0  37068.0  106.0\n",
       "4  RandTree  0.908  126.0  16119.0   82.0"
      ]
     },
     "execution_count": 214,
     "metadata": {},
     "output_type": "execute_result"
    }
   ],
   "source": [
    "Finalpipeline"
   ]
  },
  {
   "cell_type": "code",
   "execution_count": 217,
   "metadata": {},
   "outputs": [
    {
     "data": {
      "text/plain": [
       "<AxesSubplot:>"
      ]
     },
     "execution_count": 217,
     "metadata": {},
     "output_type": "execute_result"
    },
    {
     "data": {
      "image/png": "[encoded data removed]",
      "text/plain": [
       "<Figure size 864x576 with 1 Axes>"
      ]
     },
     "metadata": {
      "needs_background": "light"
     },
     "output_type": "display_data"
    }
   ],
   "source": [
    "import matplotlib.pyplot as plt\n",
    "pd.DataFrame(reg1.feature_importances_,index=X_train.columns).plot.bar(figsize=(12,8))"
   ]
  },
  {
   "cell_type": "code",
   "execution_count": 220,
   "metadata": {},
   "outputs": [
    {
     "name": "stdout",
     "output_type": "stream",
     "text": [
      "Log RMSE: 0.9071317124573134\n",
      "Mean Absolute Error: 82.68179223744293\n",
      "Mean Squared Error: 16200.79619280822\n",
      "Root Mean Squared Error: 127.28234831589265\n"
     ]
    }
   ],
   "source": [
    "reg2 = RandomForestRegressor(criterion= 'mae',min_samples_split= 3, max_depth= 7, n_estimators = 150)\n",
    "reg2.fit(X_train, y_train)\n",
    "y_pred = reg2.predict(X_test)\n",
    "\n",
    "resuts= pd.DataFrame({'Actual': y_test, 'Predicted':  np.floor(y_pred)})\n",
    "resuts.head()\n",
    "\n",
    "print('Log RMSE:' , compute_rmsle(y_test, y_pred))\n",
    "print('Mean Absolute Error:', mean_absolute_error(y_test, y_pred))\n",
    "print('Mean Squared Error:', mean_squared_error(y_test, y_pred))\n",
    "print('Root Mean Squared Error:', np.sqrt(mean_squared_error(y_test, y_pred)))\n",
    "\n",
    "MAE = np.floor(mean_absolute_error(y_test, y_pred))\n",
    "MSE = np.floor(mean_squared_error(y_test, y_pred))\n",
    "RMSE = np.floor(np.sqrt(mean_squared_error(y_test, y_pred)))\n",
    "rmsle = np.round(compute_rmsle(y_test, y_pred),3)\n",
    "\n",
    "Finalpipeline=Finalpipeline.append({'MODEL':'RandTree','LRMSE':rmsle, 'MAE':MAE, 'MSE': MSE, 'RMSE':RMSE}, ignore_index=True)"
   ]
  },
  {
   "cell_type": "code",
   "execution_count": 221,
   "metadata": {},
   "outputs": [
    {
     "data": {
      "text/html": [
       "<div>\n",
       "<style scoped>\n",
       "    .dataframe tbody tr th:only-of-type {\n",
       "        vertical-align: middle;\n",
       "    }\n",
       "\n",
       "    .dataframe tbody tr th {\n",
       "        vertical-align: top;\n",
       "    }\n",
       "\n",
       "    .dataframe thead th {\n",
       "        text-align: right;\n",
       "    }\n",
       "</style>\n",
       "<table border=\"1\" class=\"dataframe\">\n",
       "  <thead>\n",
       "    <tr style=\"text-align: right;\">\n",
       "      <th></th>\n",
       "      <th>MODEL</th>\n",
       "      <th>LRMSE</th>\n",
       "      <th>RMSE</th>\n",
       "      <th>MSE</th>\n",
       "      <th>MAE</th>\n",
       "    </tr>\n",
       "  </thead>\n",
       "  <tbody>\n",
       "    <tr>\n",
       "      <th>0</th>\n",
       "      <td>linreg</td>\n",
       "      <td>NA</td>\n",
       "      <td>149.0</td>\n",
       "      <td>22384.0</td>\n",
       "      <td>104.0</td>\n",
       "    </tr>\n",
       "    <tr>\n",
       "      <th>1</th>\n",
       "      <td>Ridge</td>\n",
       "      <td>0.963</td>\n",
       "      <td>146.0</td>\n",
       "      <td>21415.0</td>\n",
       "      <td>105.0</td>\n",
       "    </tr>\n",
       "    <tr>\n",
       "      <th>2</th>\n",
       "      <td>Lasso</td>\n",
       "      <td>1.027</td>\n",
       "      <td>160.0</td>\n",
       "      <td>25915.0</td>\n",
       "      <td>127.0</td>\n",
       "    </tr>\n",
       "    <tr>\n",
       "      <th>3</th>\n",
       "      <td>DeciTree</td>\n",
       "      <td>1.059</td>\n",
       "      <td>192.0</td>\n",
       "      <td>37068.0</td>\n",
       "      <td>106.0</td>\n",
       "    </tr>\n",
       "    <tr>\n",
       "      <th>4</th>\n",
       "      <td>RandTree</td>\n",
       "      <td>0.908</td>\n",
       "      <td>126.0</td>\n",
       "      <td>16119.0</td>\n",
       "      <td>82.0</td>\n",
       "    </tr>\n",
       "    <tr>\n",
       "      <th>5</th>\n",
       "      <td>RandTree</td>\n",
       "      <td>0.907</td>\n",
       "      <td>127.0</td>\n",
       "      <td>16200.0</td>\n",
       "      <td>82.0</td>\n",
       "    </tr>\n",
       "  </tbody>\n",
       "</table>\n",
       "</div>"
      ],
      "text/plain": [
       "      MODEL  LRMSE   RMSE      MSE    MAE\n",
       "0    linreg     NA  149.0  22384.0  104.0\n",
       "1     Ridge  0.963  146.0  21415.0  105.0\n",
       "2     Lasso  1.027  160.0  25915.0  127.0\n",
       "3  DeciTree  1.059  192.0  37068.0  106.0\n",
       "4  RandTree  0.908  126.0  16119.0   82.0\n",
       "5  RandTree  0.907  127.0  16200.0   82.0"
      ]
     },
     "execution_count": 221,
     "metadata": {},
     "output_type": "execute_result"
    }
   ],
   "source": [
    "Finalpipeline"
   ]
  },
  {
   "cell_type": "code",
   "execution_count": 223,
   "metadata": {},
   "outputs": [],
   "source": [
    "# y_pred1 = reg2.predict(dfbas_test)\n",
    "# df_submission = pd.DataFrame({'Id': ID, 'SalePrice': y_pred1})\n",
    "# print(df_submission.head())\n",
    "# df_submission.to_csv('submission1.csv',index=False)"
   ]
  },
  {
   "cell_type": "code",
   "execution_count": null,
   "metadata": {},
   "outputs": [],
   "source": []
  }
 ],
 "metadata": {
  "kernelspec": {
   "display_name": "Python 3",
   "language": "python",
   "name": "python3"
  },
  "language_info": {
   "codemirror_mode": {
    "name": "ipython",
    "version": 3
   },
   "file_extension": ".py",
   "mimetype": "text/x-python",
   "name": "python",
   "nbconvert_exporter": "python",
   "pygments_lexer": "ipython3",
   "version": "3.8.5"
  }
 },
 "nbformat": 4,
 "nbformat_minor": 4
}
